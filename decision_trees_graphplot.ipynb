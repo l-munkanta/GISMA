{
  "cells": [
    {
      "cell_type": "markdown",
      "metadata": {
        "id": "view-in-github",
        "colab_type": "text"
      },
      "source": [
        "<a href=\"https://colab.research.google.com/github/l-munkanta/GISMA/blob/main/decision_trees_graphplot.ipynb\" target=\"_parent\"><img src=\"https://colab.research.google.com/assets/colab-badge.svg\" alt=\"Open In Colab\"/></a>"
      ]
    },
    {
      "cell_type": "markdown",
      "id": "korean-wednesday",
      "metadata": {
        "id": "korean-wednesday"
      },
      "source": [
        "# Decision Trees\n",
        "You should build a machine learning pipeline using a decision tree model. In particular, you should do the following:\n",
        "- Load the `mnist` dataset using [Pandas](https://pandas.pydata.org/docs/reference/api/pandas.read_csv.html). You can find this dataset in the datasets folder.\n",
        "- Split the dataset into training and test sets using [Scikit-Learn](https://scikit-learn.org/stable/modules/generated/sklearn.model_selection.train_test_split.html). \n",
        "- Train and test a decision tree model using [Scikit-Learn](https://scikit-learn.org/stable/modules/generated/sklearn.tree.DecisionTreeClassifier.html).\n",
        "- Check the documentation to identify the most important hyperparameters, attributes, and methods of the model. Use them in practice."
      ]
    },
    {
      "cell_type": "markdown",
      "source": [
        "##Importing Libraries"
      ],
      "metadata": {
        "id": "N_1FqVzCOG-A"
      },
      "id": "N_1FqVzCOG-A"
    },
    {
      "cell_type": "code",
      "execution_count": 89,
      "id": "infrared-copper",
      "metadata": {
        "id": "infrared-copper"
      },
      "outputs": [],
      "source": [
        "import pandas as pd\n",
        "import sklearn.model_selection\n",
        "import sklearn.tree\n",
        "import sklearn.metrics\n",
        "from sklearn import tree"
      ]
    },
    {
      "cell_type": "markdown",
      "source": [
        "##Loading the Dataset"
      ],
      "metadata": {
        "id": "y7KUzKDfOUfu"
      },
      "id": "y7KUzKDfOUfu"
    },
    {
      "cell_type": "code",
      "source": [
        "df = pd.read_csv(\"mnist.csv\")\n",
        "df = df.set_index(\"id\")\n",
        "df.head()  "
      ],
      "metadata": {
        "colab": {
          "base_uri": "https://localhost:8080/",
          "height": 330
        },
        "id": "SsGJY7NQOb0i",
        "outputId": "fb8939ec-c6bb-47df-b299-392ce954f0c7"
      },
      "id": "SsGJY7NQOb0i",
      "execution_count": 90,
      "outputs": [
        {
          "output_type": "execute_result",
          "data": {
            "text/plain": [
              "       class  pixel1  pixel2  pixel3  pixel4  pixel5  pixel6  pixel7  pixel8  \\\n",
              "id                                                                             \n",
              "31953      5       0       0       0       0       0       0       0       0   \n",
              "34452      8       0       0       0       0       0       0       0       0   \n",
              "60897      5       0       0       0       0       0       0       0       0   \n",
              "36953      0       0       0       0       0       0       0       0       0   \n",
              "1981       3       0       0       0       0       0       0       0       0   \n",
              "\n",
              "       pixel9  ...  pixel775  pixel776  pixel777  pixel778  pixel779  \\\n",
              "id             ...                                                     \n",
              "31953       0  ...         0         0         0         0         0   \n",
              "34452       0  ...         0         0         0         0         0   \n",
              "60897       0  ...         0         0         0         0         0   \n",
              "36953       0  ...         0         0         0         0         0   \n",
              "1981        0  ...         0         0         0         0         0   \n",
              "\n",
              "       pixel780  pixel781  pixel782  pixel783  pixel784  \n",
              "id                                                       \n",
              "31953         0         0         0         0         0  \n",
              "34452         0         0         0         0         0  \n",
              "60897         0         0         0         0         0  \n",
              "36953         0         0         0         0         0  \n",
              "1981          0         0         0         0         0  \n",
              "\n",
              "[5 rows x 785 columns]"
            ],
            "text/html": [
              "\n",
              "  <div id=\"df-430c4f1c-4c4d-43e8-8113-5d5f74f7bd74\">\n",
              "    <div class=\"colab-df-container\">\n",
              "      <div>\n",
              "<style scoped>\n",
              "    .dataframe tbody tr th:only-of-type {\n",
              "        vertical-align: middle;\n",
              "    }\n",
              "\n",
              "    .dataframe tbody tr th {\n",
              "        vertical-align: top;\n",
              "    }\n",
              "\n",
              "    .dataframe thead th {\n",
              "        text-align: right;\n",
              "    }\n",
              "</style>\n",
              "<table border=\"1\" class=\"dataframe\">\n",
              "  <thead>\n",
              "    <tr style=\"text-align: right;\">\n",
              "      <th></th>\n",
              "      <th>class</th>\n",
              "      <th>pixel1</th>\n",
              "      <th>pixel2</th>\n",
              "      <th>pixel3</th>\n",
              "      <th>pixel4</th>\n",
              "      <th>pixel5</th>\n",
              "      <th>pixel6</th>\n",
              "      <th>pixel7</th>\n",
              "      <th>pixel8</th>\n",
              "      <th>pixel9</th>\n",
              "      <th>...</th>\n",
              "      <th>pixel775</th>\n",
              "      <th>pixel776</th>\n",
              "      <th>pixel777</th>\n",
              "      <th>pixel778</th>\n",
              "      <th>pixel779</th>\n",
              "      <th>pixel780</th>\n",
              "      <th>pixel781</th>\n",
              "      <th>pixel782</th>\n",
              "      <th>pixel783</th>\n",
              "      <th>pixel784</th>\n",
              "    </tr>\n",
              "    <tr>\n",
              "      <th>id</th>\n",
              "      <th></th>\n",
              "      <th></th>\n",
              "      <th></th>\n",
              "      <th></th>\n",
              "      <th></th>\n",
              "      <th></th>\n",
              "      <th></th>\n",
              "      <th></th>\n",
              "      <th></th>\n",
              "      <th></th>\n",
              "      <th></th>\n",
              "      <th></th>\n",
              "      <th></th>\n",
              "      <th></th>\n",
              "      <th></th>\n",
              "      <th></th>\n",
              "      <th></th>\n",
              "      <th></th>\n",
              "      <th></th>\n",
              "      <th></th>\n",
              "      <th></th>\n",
              "    </tr>\n",
              "  </thead>\n",
              "  <tbody>\n",
              "    <tr>\n",
              "      <th>31953</th>\n",
              "      <td>5</td>\n",
              "      <td>0</td>\n",
              "      <td>0</td>\n",
              "      <td>0</td>\n",
              "      <td>0</td>\n",
              "      <td>0</td>\n",
              "      <td>0</td>\n",
              "      <td>0</td>\n",
              "      <td>0</td>\n",
              "      <td>0</td>\n",
              "      <td>...</td>\n",
              "      <td>0</td>\n",
              "      <td>0</td>\n",
              "      <td>0</td>\n",
              "      <td>0</td>\n",
              "      <td>0</td>\n",
              "      <td>0</td>\n",
              "      <td>0</td>\n",
              "      <td>0</td>\n",
              "      <td>0</td>\n",
              "      <td>0</td>\n",
              "    </tr>\n",
              "    <tr>\n",
              "      <th>34452</th>\n",
              "      <td>8</td>\n",
              "      <td>0</td>\n",
              "      <td>0</td>\n",
              "      <td>0</td>\n",
              "      <td>0</td>\n",
              "      <td>0</td>\n",
              "      <td>0</td>\n",
              "      <td>0</td>\n",
              "      <td>0</td>\n",
              "      <td>0</td>\n",
              "      <td>...</td>\n",
              "      <td>0</td>\n",
              "      <td>0</td>\n",
              "      <td>0</td>\n",
              "      <td>0</td>\n",
              "      <td>0</td>\n",
              "      <td>0</td>\n",
              "      <td>0</td>\n",
              "      <td>0</td>\n",
              "      <td>0</td>\n",
              "      <td>0</td>\n",
              "    </tr>\n",
              "    <tr>\n",
              "      <th>60897</th>\n",
              "      <td>5</td>\n",
              "      <td>0</td>\n",
              "      <td>0</td>\n",
              "      <td>0</td>\n",
              "      <td>0</td>\n",
              "      <td>0</td>\n",
              "      <td>0</td>\n",
              "      <td>0</td>\n",
              "      <td>0</td>\n",
              "      <td>0</td>\n",
              "      <td>...</td>\n",
              "      <td>0</td>\n",
              "      <td>0</td>\n",
              "      <td>0</td>\n",
              "      <td>0</td>\n",
              "      <td>0</td>\n",
              "      <td>0</td>\n",
              "      <td>0</td>\n",
              "      <td>0</td>\n",
              "      <td>0</td>\n",
              "      <td>0</td>\n",
              "    </tr>\n",
              "    <tr>\n",
              "      <th>36953</th>\n",
              "      <td>0</td>\n",
              "      <td>0</td>\n",
              "      <td>0</td>\n",
              "      <td>0</td>\n",
              "      <td>0</td>\n",
              "      <td>0</td>\n",
              "      <td>0</td>\n",
              "      <td>0</td>\n",
              "      <td>0</td>\n",
              "      <td>0</td>\n",
              "      <td>...</td>\n",
              "      <td>0</td>\n",
              "      <td>0</td>\n",
              "      <td>0</td>\n",
              "      <td>0</td>\n",
              "      <td>0</td>\n",
              "      <td>0</td>\n",
              "      <td>0</td>\n",
              "      <td>0</td>\n",
              "      <td>0</td>\n",
              "      <td>0</td>\n",
              "    </tr>\n",
              "    <tr>\n",
              "      <th>1981</th>\n",
              "      <td>3</td>\n",
              "      <td>0</td>\n",
              "      <td>0</td>\n",
              "      <td>0</td>\n",
              "      <td>0</td>\n",
              "      <td>0</td>\n",
              "      <td>0</td>\n",
              "      <td>0</td>\n",
              "      <td>0</td>\n",
              "      <td>0</td>\n",
              "      <td>...</td>\n",
              "      <td>0</td>\n",
              "      <td>0</td>\n",
              "      <td>0</td>\n",
              "      <td>0</td>\n",
              "      <td>0</td>\n",
              "      <td>0</td>\n",
              "      <td>0</td>\n",
              "      <td>0</td>\n",
              "      <td>0</td>\n",
              "      <td>0</td>\n",
              "    </tr>\n",
              "  </tbody>\n",
              "</table>\n",
              "<p>5 rows × 785 columns</p>\n",
              "</div>\n",
              "      <button class=\"colab-df-convert\" onclick=\"convertToInteractive('df-430c4f1c-4c4d-43e8-8113-5d5f74f7bd74')\"\n",
              "              title=\"Convert this dataframe to an interactive table.\"\n",
              "              style=\"display:none;\">\n",
              "        \n",
              "  <svg xmlns=\"http://www.w3.org/2000/svg\" height=\"24px\"viewBox=\"0 0 24 24\"\n",
              "       width=\"24px\">\n",
              "    <path d=\"M0 0h24v24H0V0z\" fill=\"none\"/>\n",
              "    <path d=\"M18.56 5.44l.94 2.06.94-2.06 2.06-.94-2.06-.94-.94-2.06-.94 2.06-2.06.94zm-11 1L8.5 8.5l.94-2.06 2.06-.94-2.06-.94L8.5 2.5l-.94 2.06-2.06.94zm10 10l.94 2.06.94-2.06 2.06-.94-2.06-.94-.94-2.06-.94 2.06-2.06.94z\"/><path d=\"M17.41 7.96l-1.37-1.37c-.4-.4-.92-.59-1.43-.59-.52 0-1.04.2-1.43.59L10.3 9.45l-7.72 7.72c-.78.78-.78 2.05 0 2.83L4 21.41c.39.39.9.59 1.41.59.51 0 1.02-.2 1.41-.59l7.78-7.78 2.81-2.81c.8-.78.8-2.07 0-2.86zM5.41 20L4 18.59l7.72-7.72 1.47 1.35L5.41 20z\"/>\n",
              "  </svg>\n",
              "      </button>\n",
              "      \n",
              "  <style>\n",
              "    .colab-df-container {\n",
              "      display:flex;\n",
              "      flex-wrap:wrap;\n",
              "      gap: 12px;\n",
              "    }\n",
              "\n",
              "    .colab-df-convert {\n",
              "      background-color: #E8F0FE;\n",
              "      border: none;\n",
              "      border-radius: 50%;\n",
              "      cursor: pointer;\n",
              "      display: none;\n",
              "      fill: #1967D2;\n",
              "      height: 32px;\n",
              "      padding: 0 0 0 0;\n",
              "      width: 32px;\n",
              "    }\n",
              "\n",
              "    .colab-df-convert:hover {\n",
              "      background-color: #E2EBFA;\n",
              "      box-shadow: 0px 1px 2px rgba(60, 64, 67, 0.3), 0px 1px 3px 1px rgba(60, 64, 67, 0.15);\n",
              "      fill: #174EA6;\n",
              "    }\n",
              "\n",
              "    [theme=dark] .colab-df-convert {\n",
              "      background-color: #3B4455;\n",
              "      fill: #D2E3FC;\n",
              "    }\n",
              "\n",
              "    [theme=dark] .colab-df-convert:hover {\n",
              "      background-color: #434B5C;\n",
              "      box-shadow: 0px 1px 3px 1px rgba(0, 0, 0, 0.15);\n",
              "      filter: drop-shadow(0px 1px 2px rgba(0, 0, 0, 0.3));\n",
              "      fill: #FFFFFF;\n",
              "    }\n",
              "  </style>\n",
              "\n",
              "      <script>\n",
              "        const buttonEl =\n",
              "          document.querySelector('#df-430c4f1c-4c4d-43e8-8113-5d5f74f7bd74 button.colab-df-convert');\n",
              "        buttonEl.style.display =\n",
              "          google.colab.kernel.accessAllowed ? 'block' : 'none';\n",
              "\n",
              "        async function convertToInteractive(key) {\n",
              "          const element = document.querySelector('#df-430c4f1c-4c4d-43e8-8113-5d5f74f7bd74');\n",
              "          const dataTable =\n",
              "            await google.colab.kernel.invokeFunction('convertToInteractive',\n",
              "                                                     [key], {});\n",
              "          if (!dataTable) return;\n",
              "\n",
              "          const docLinkHtml = 'Like what you see? Visit the ' +\n",
              "            '<a target=\"_blank\" href=https://colab.research.google.com/notebooks/data_table.ipynb>data table notebook</a>'\n",
              "            + ' to learn more about interactive tables.';\n",
              "          element.innerHTML = '';\n",
              "          dataTable['output_type'] = 'display_data';\n",
              "          await google.colab.output.renderOutput(dataTable, element);\n",
              "          const docLink = document.createElement('div');\n",
              "          docLink.innerHTML = docLinkHtml;\n",
              "          element.appendChild(docLink);\n",
              "        }\n",
              "      </script>\n",
              "    </div>\n",
              "  </div>\n",
              "  "
            ]
          },
          "metadata": {},
          "execution_count": 90
        }
      ]
    },
    {
      "cell_type": "markdown",
      "source": [
        "##Splitting the Dataset to Training and Testing Data"
      ],
      "metadata": {
        "id": "BvUjVbRtPzyu"
      },
      "id": "BvUjVbRtPzyu"
    },
    {
      "cell_type": "code",
      "source": [
        "x = df.drop([\"class\"], axis=1)\n",
        "y = df[\"class\"]\n",
        "x_train, x_test, y_train, y_test = sklearn.model_selection.train_test_split(x, y)\n",
        "\n",
        "print('df:', df.shape)\n",
        "print('x_train:', x_train.shape)\n",
        "print('x_test:', x_test.shape)\n",
        "print('y_train:', y_train.shape)\n",
        "print('y_test:', y_test.shape)"
      ],
      "metadata": {
        "colab": {
          "base_uri": "https://localhost:8080/"
        },
        "id": "4rg2KkP3P6IN",
        "outputId": "2e236496-2679-4a89-970b-12a5c9536b73"
      },
      "id": "4rg2KkP3P6IN",
      "execution_count": 91,
      "outputs": [
        {
          "output_type": "stream",
          "name": "stdout",
          "text": [
            "df: (4000, 785)\n",
            "x_train: (3000, 784)\n",
            "x_test: (1000, 784)\n",
            "y_train: (3000,)\n",
            "y_test: (1000,)\n"
          ]
        }
      ]
    },
    {
      "cell_type": "markdown",
      "source": [
        "##Training the Dataset (Decision Tree - Gini Classifier)\n",
        "\n",
        "\n"
      ],
      "metadata": {
        "id": "5I1Zr8qYQPO1"
      },
      "id": "5I1Zr8qYQPO1"
    },
    {
      "cell_type": "code",
      "source": [
        "model = sklearn.tree.DecisionTreeClassifier(criterion='gini', splitter='best', max_depth= 4, random_state = 12345)\n",
        "model.fit(x_train, y_train)"
      ],
      "metadata": {
        "colab": {
          "base_uri": "https://localhost:8080/"
        },
        "id": "AgP0CRsTQSSz",
        "outputId": "19a8b263-d4bb-40ac-8df3-185dc25f1e99"
      },
      "id": "AgP0CRsTQSSz",
      "execution_count": 92,
      "outputs": [
        {
          "output_type": "execute_result",
          "data": {
            "text/plain": [
              "DecisionTreeClassifier(max_depth=4, random_state=12345)"
            ]
          },
          "metadata": {},
          "execution_count": 92
        }
      ]
    },
    {
      "cell_type": "markdown",
      "source": [],
      "metadata": {
        "id": "yg1iJcb3UHk6"
      },
      "id": "yg1iJcb3UHk6"
    },
    {
      "cell_type": "markdown",
      "source": [
        "##Testing the Model (Decision Tree - Gini Classifier)"
      ],
      "metadata": {
        "id": "q-MWWIAWRmzH"
      },
      "id": "q-MWWIAWRmzH"
    },
    {
      "cell_type": "code",
      "source": [
        "y_pred = model.predict(x_test)\n",
        "accuracy = sklearn.metrics.accuracy_score(y_test, y_pred)\n",
        "accuracy"
      ],
      "metadata": {
        "colab": {
          "base_uri": "https://localhost:8080/"
        },
        "id": "hp5jjbgkR11L",
        "outputId": "6fadbfdf-5372-4ec8-807b-c8f226632e1b"
      },
      "id": "hp5jjbgkR11L",
      "execution_count": 93,
      "outputs": [
        {
          "output_type": "execute_result",
          "data": {
            "text/plain": [
              "0.58"
            ]
          },
          "metadata": {},
          "execution_count": 93
        }
      ]
    },
    {
      "cell_type": "code",
      "source": [
        "text_representation = tree.export_text(model)\n",
        "print(text_representation)"
      ],
      "metadata": {
        "colab": {
          "base_uri": "https://localhost:8080/"
        },
        "id": "GBpHAXfMdScf",
        "outputId": "e92baf39-2ff1-4743-d319-f4f4e07861ee"
      },
      "id": "GBpHAXfMdScf",
      "execution_count": 94,
      "outputs": [
        {
          "output_type": "stream",
          "name": "stdout",
          "text": [
            "|--- feature_350 <= 116.50\n",
            "|   |--- feature_435 <= 2.50\n",
            "|   |   |--- feature_597 <= 16.50\n",
            "|   |   |   |--- feature_459 <= 1.50\n",
            "|   |   |   |   |--- class: 7\n",
            "|   |   |   |--- feature_459 >  1.50\n",
            "|   |   |   |   |--- class: 5\n",
            "|   |   |--- feature_597 >  16.50\n",
            "|   |   |   |--- feature_461 <= 4.50\n",
            "|   |   |   |   |--- class: 0\n",
            "|   |   |   |--- feature_461 >  4.50\n",
            "|   |   |   |   |--- class: 2\n",
            "|   |--- feature_435 >  2.50\n",
            "|   |   |--- feature_542 <= 51.50\n",
            "|   |   |   |--- feature_432 <= 0.50\n",
            "|   |   |   |   |--- class: 7\n",
            "|   |   |   |--- feature_432 >  0.50\n",
            "|   |   |   |   |--- class: 4\n",
            "|   |   |--- feature_542 >  51.50\n",
            "|   |   |   |--- feature_271 <= 0.50\n",
            "|   |   |   |   |--- class: 6\n",
            "|   |   |   |--- feature_271 >  0.50\n",
            "|   |   |   |   |--- class: 2\n",
            "|--- feature_350 >  116.50\n",
            "|   |--- feature_489 <= 1.50\n",
            "|   |   |--- feature_290 <= 9.50\n",
            "|   |   |   |--- feature_459 <= 145.00\n",
            "|   |   |   |   |--- class: 3\n",
            "|   |   |   |--- feature_459 >  145.00\n",
            "|   |   |   |   |--- class: 8\n",
            "|   |   |--- feature_290 >  9.50\n",
            "|   |   |   |--- feature_297 <= 0.50\n",
            "|   |   |   |   |--- class: 5\n",
            "|   |   |   |--- feature_297 >  0.50\n",
            "|   |   |   |   |--- class: 9\n",
            "|   |--- feature_489 >  1.50\n",
            "|   |   |--- feature_235 <= 0.50\n",
            "|   |   |   |--- feature_521 <= 25.50\n",
            "|   |   |   |   |--- class: 1\n",
            "|   |   |   |--- feature_521 >  25.50\n",
            "|   |   |   |   |--- class: 6\n",
            "|   |   |--- feature_235 >  0.50\n",
            "|   |   |   |--- feature_656 <= 88.50\n",
            "|   |   |   |   |--- class: 2\n",
            "|   |   |   |--- feature_656 >  88.50\n",
            "|   |   |   |   |--- class: 8\n",
            "\n"
          ]
        }
      ]
    },
    {
      "cell_type": "code",
      "source": [
        "import graphviz\n",
        "# DOT data\n",
        "dot_data = tree.export_graphviz(model, out_file=None,filled=True)\n",
        "                  \n",
        "# Draw graph\n",
        "graph = graphviz.Source(dot_data, format=\"png\") \n",
        "graph"
      ],
      "metadata": {
        "colab": {
          "base_uri": "https://localhost:8080/",
          "height": 677
        },
        "id": "TgBvNtqnfAdR",
        "outputId": "8393bce2-c29a-45f0-c867-333a8f7c0794"
      },
      "id": "TgBvNtqnfAdR",
      "execution_count": 95,
      "outputs": [
        {
          "output_type": "execute_result",
          "data": {
            "text/plain": [
              "<graphviz.files.Source at 0x7fb69c1cb190>"
            ],
            "image/svg+xml": "<?xml version=\"1.0\" encoding=\"UTF-8\" standalone=\"no\"?>\n<!DOCTYPE svg PUBLIC \"-//W3C//DTD SVG 1.1//EN\"\n \"http://www.w3.org/Graphics/SVG/1.1/DTD/svg11.dtd\">\n<!-- Generated by graphviz version 2.43.0 (0)\n -->\n<!-- Title: Tree Pages: 1 -->\n<svg width=\"4183pt\" height=\"477pt\"\n viewBox=\"0.00 0.00 4183.00 477.00\" xmlns=\"http://www.w3.org/2000/svg\" xmlns:xlink=\"http://www.w3.org/1999/xlink\">\n<g id=\"graph0\" class=\"graph\" transform=\"scale(1 1) rotate(0) translate(4 473)\">\n<title>Tree</title>\n<polygon fill=\"white\" stroke=\"transparent\" points=\"-4,4 -4,-473 4179,-473 4179,4 -4,4\"/>\n<!-- 0 -->\n<g id=\"node1\" class=\"node\">\n<title>0</title>\n<polygon fill=\"#fefefb\" stroke=\"black\" points=\"2291.5,-469 1926.5,-469 1926.5,-401 2291.5,-401 2291.5,-469\"/>\n<text text-anchor=\"middle\" x=\"2109\" y=\"-453.8\" font-family=\"Helvetica,sans-Serif\" font-size=\"14.00\">X[350] &lt;= 116.5</text>\n<text text-anchor=\"middle\" x=\"2109\" y=\"-438.8\" font-family=\"Helvetica,sans-Serif\" font-size=\"14.00\">gini = 0.899</text>\n<text text-anchor=\"middle\" x=\"2109\" y=\"-423.8\" font-family=\"Helvetica,sans-Serif\" font-size=\"14.00\">samples = 3000</text>\n<text text-anchor=\"middle\" x=\"2109\" y=\"-408.8\" font-family=\"Helvetica,sans-Serif\" font-size=\"14.00\">value = [271, 373, 282, 312, 275, 276, 313, 302, 308, 288]</text>\n</g>\n<!-- 1 -->\n<g id=\"node2\" class=\"node\">\n<title>1</title>\n<polygon fill=\"#fefdff\" stroke=\"black\" points=\"1756,-365 1406,-365 1406,-297 1756,-297 1756,-365\"/>\n<text text-anchor=\"middle\" x=\"1581\" y=\"-349.8\" font-family=\"Helvetica,sans-Serif\" font-size=\"14.00\">X[435] &lt;= 2.5</text>\n<text text-anchor=\"middle\" x=\"1581\" y=\"-334.8\" font-family=\"Helvetica,sans-Serif\" font-size=\"14.00\">gini = 0.881</text>\n<text text-anchor=\"middle\" x=\"1581\" y=\"-319.8\" font-family=\"Helvetica,sans-Serif\" font-size=\"14.00\">samples = 1899</text>\n<text text-anchor=\"middle\" x=\"1581\" y=\"-304.8\" font-family=\"Helvetica,sans-Serif\" font-size=\"14.00\">value = [254, 27, 216, 62, 244, 170, 261, 280, 157, 228]</text>\n</g>\n<!-- 0&#45;&gt;1 -->\n<g id=\"edge1\" class=\"edge\">\n<title>0&#45;&gt;1</title>\n<path fill=\"none\" stroke=\"black\" d=\"M1937.94,-400.95C1881.7,-390.09 1819.02,-377.98 1762.07,-366.98\"/>\n<polygon fill=\"black\" stroke=\"black\" points=\"1762.72,-363.54 1752.24,-365.08 1761.4,-370.41 1762.72,-363.54\"/>\n<text text-anchor=\"middle\" x=\"1766.25\" y=\"-382.09\" font-family=\"Helvetica,sans-Serif\" font-size=\"14.00\">True</text>\n</g>\n<!-- 16 -->\n<g id=\"node17\" class=\"node\">\n<title>16</title>\n<polygon fill=\"#fcfce9\" stroke=\"black\" points=\"2804,-365 2484,-365 2484,-297 2804,-297 2804,-365\"/>\n<text text-anchor=\"middle\" x=\"2644\" y=\"-349.8\" font-family=\"Helvetica,sans-Serif\" font-size=\"14.00\">X[489] &lt;= 1.5</text>\n<text text-anchor=\"middle\" x=\"2644\" y=\"-334.8\" font-family=\"Helvetica,sans-Serif\" font-size=\"14.00\">gini = 0.811</text>\n<text text-anchor=\"middle\" x=\"2644\" y=\"-319.8\" font-family=\"Helvetica,sans-Serif\" font-size=\"14.00\">samples = 1101</text>\n<text text-anchor=\"middle\" x=\"2644\" y=\"-304.8\" font-family=\"Helvetica,sans-Serif\" font-size=\"14.00\">value = [17, 346, 66, 250, 31, 106, 52, 22, 151, 60]</text>\n</g>\n<!-- 0&#45;&gt;16 -->\n<g id=\"edge16\" class=\"edge\">\n<title>0&#45;&gt;16</title>\n<path fill=\"none\" stroke=\"black\" d=\"M2282.33,-400.95C2343.62,-389.27 2412.47,-376.14 2473.52,-364.5\"/>\n<polygon fill=\"black\" stroke=\"black\" points=\"2474.48,-367.88 2483.64,-362.57 2473.17,-361.01 2474.48,-367.88\"/>\n<text text-anchor=\"middle\" x=\"2469.59\" y=\"-379.55\" font-family=\"Helvetica,sans-Serif\" font-size=\"14.00\">False</text>\n</g>\n<!-- 2 -->\n<g id=\"node3\" class=\"node\">\n<title>2</title>\n<polygon fill=\"#f4c9aa\" stroke=\"black\" points=\"893.5,-261 618.5,-261 618.5,-193 893.5,-193 893.5,-261\"/>\n<text text-anchor=\"middle\" x=\"756\" y=\"-245.8\" font-family=\"Helvetica,sans-Serif\" font-size=\"14.00\">X[597] &lt;= 16.5</text>\n<text text-anchor=\"middle\" x=\"756\" y=\"-230.8\" font-family=\"Helvetica,sans-Serif\" font-size=\"14.00\">gini = 0.686</text>\n<text text-anchor=\"middle\" x=\"756\" y=\"-215.8\" font-family=\"Helvetica,sans-Serif\" font-size=\"14.00\">samples = 481</text>\n<text text-anchor=\"middle\" x=\"756\" y=\"-200.8\" font-family=\"Helvetica,sans-Serif\" font-size=\"14.00\">value = [249, 2, 23, 7, 17, 57, 31, 73, 4, 18]</text>\n</g>\n<!-- 1&#45;&gt;2 -->\n<g id=\"edge2\" class=\"edge\">\n<title>1&#45;&gt;2</title>\n<path fill=\"none\" stroke=\"black\" d=\"M1405.79,-308.34C1256.57,-289.89 1044.59,-263.68 903.81,-246.27\"/>\n<polygon fill=\"black\" stroke=\"black\" points=\"904.15,-242.79 893.8,-245.04 903.29,-249.74 904.15,-242.79\"/>\n</g>\n<!-- 9 -->\n<g id=\"node10\" class=\"node\">\n<title>9</title>\n<polygon fill=\"#ffffff\" stroke=\"black\" points=\"1748.5,-261 1413.5,-261 1413.5,-193 1748.5,-193 1748.5,-261\"/>\n<text text-anchor=\"middle\" x=\"1581\" y=\"-245.8\" font-family=\"Helvetica,sans-Serif\" font-size=\"14.00\">X[542] &lt;= 51.5</text>\n<text text-anchor=\"middle\" x=\"1581\" y=\"-230.8\" font-family=\"Helvetica,sans-Serif\" font-size=\"14.00\">gini = 0.866</text>\n<text text-anchor=\"middle\" x=\"1581\" y=\"-215.8\" font-family=\"Helvetica,sans-Serif\" font-size=\"14.00\">samples = 1418</text>\n<text text-anchor=\"middle\" x=\"1581\" y=\"-200.8\" font-family=\"Helvetica,sans-Serif\" font-size=\"14.00\">value = [5, 25, 193, 55, 227, 113, 230, 207, 153, 210]</text>\n</g>\n<!-- 1&#45;&gt;9 -->\n<g id=\"edge9\" class=\"edge\">\n<title>1&#45;&gt;9</title>\n<path fill=\"none\" stroke=\"black\" d=\"M1581,-296.88C1581,-288.78 1581,-279.98 1581,-271.47\"/>\n<polygon fill=\"black\" stroke=\"black\" points=\"1584.5,-271.3 1581,-261.3 1577.5,-271.3 1584.5,-271.3\"/>\n</g>\n<!-- 3 -->\n<g id=\"node4\" class=\"node\">\n<title>3</title>\n<polygon fill=\"#e5c7f8\" stroke=\"black\" points=\"497,-157 237,-157 237,-89 497,-89 497,-157\"/>\n<text text-anchor=\"middle\" x=\"367\" y=\"-141.8\" font-family=\"Helvetica,sans-Serif\" font-size=\"14.00\">X[459] &lt;= 1.5</text>\n<text text-anchor=\"middle\" x=\"367\" y=\"-126.8\" font-family=\"Helvetica,sans-Serif\" font-size=\"14.00\">gini = 0.782</text>\n<text text-anchor=\"middle\" x=\"367\" y=\"-111.8\" font-family=\"Helvetica,sans-Serif\" font-size=\"14.00\">samples = 183</text>\n<text text-anchor=\"middle\" x=\"367\" y=\"-96.8\" font-family=\"Helvetica,sans-Serif\" font-size=\"14.00\">value = [20, 1, 3, 2, 16, 27, 23, 71, 2, 18]</text>\n</g>\n<!-- 2&#45;&gt;3 -->\n<g id=\"edge3\" class=\"edge\">\n<title>2&#45;&gt;3</title>\n<path fill=\"none\" stroke=\"black\" d=\"M629.97,-192.95C589.4,-182.31 544.26,-170.48 503.01,-159.66\"/>\n<polygon fill=\"black\" stroke=\"black\" points=\"503.72,-156.23 493.16,-157.08 501.95,-163 503.72,-156.23\"/>\n</g>\n<!-- 6 -->\n<g id=\"node7\" class=\"node\">\n<title>6</title>\n<polygon fill=\"#eca16c\" stroke=\"black\" points=\"878.5,-157 633.5,-157 633.5,-89 878.5,-89 878.5,-157\"/>\n<text text-anchor=\"middle\" x=\"756\" y=\"-141.8\" font-family=\"Helvetica,sans-Serif\" font-size=\"14.00\">X[461] &lt;= 4.5</text>\n<text text-anchor=\"middle\" x=\"756\" y=\"-126.8\" font-family=\"Helvetica,sans-Serif\" font-size=\"14.00\">gini = 0.394</text>\n<text text-anchor=\"middle\" x=\"756\" y=\"-111.8\" font-family=\"Helvetica,sans-Serif\" font-size=\"14.00\">samples = 298</text>\n<text text-anchor=\"middle\" x=\"756\" y=\"-96.8\" font-family=\"Helvetica,sans-Serif\" font-size=\"14.00\">value = [229, 1, 20, 5, 1, 30, 8, 2, 2, 0]</text>\n</g>\n<!-- 2&#45;&gt;6 -->\n<g id=\"edge6\" class=\"edge\">\n<title>2&#45;&gt;6</title>\n<path fill=\"none\" stroke=\"black\" d=\"M756,-192.88C756,-184.78 756,-175.98 756,-167.47\"/>\n<polygon fill=\"black\" stroke=\"black\" points=\"759.5,-167.3 756,-157.3 752.5,-167.3 759.5,-167.3\"/>\n</g>\n<!-- 4 -->\n<g id=\"node5\" class=\"node\">\n<title>4</title>\n<polygon fill=\"#ca8ef0\" stroke=\"black\" points=\"230,-53 0,-53 0,0 230,0 230,-53\"/>\n<text text-anchor=\"middle\" x=\"115\" y=\"-37.8\" font-family=\"Helvetica,sans-Serif\" font-size=\"14.00\">gini = 0.57</text>\n<text text-anchor=\"middle\" x=\"115\" y=\"-22.8\" font-family=\"Helvetica,sans-Serif\" font-size=\"14.00\">samples = 111</text>\n<text text-anchor=\"middle\" x=\"115\" y=\"-7.8\" font-family=\"Helvetica,sans-Serif\" font-size=\"14.00\">value = [15, 0, 1, 2, 1, 7, 6, 70, 0, 9]</text>\n</g>\n<!-- 3&#45;&gt;4 -->\n<g id=\"edge4\" class=\"edge\">\n<title>3&#45;&gt;4</title>\n<path fill=\"none\" stroke=\"black\" d=\"M278.86,-88.95C250.8,-78.43 219.98,-66.87 192.72,-56.64\"/>\n<polygon fill=\"black\" stroke=\"black\" points=\"193.82,-53.32 183.23,-53.09 191.37,-59.88 193.82,-53.32\"/>\n</g>\n<!-- 5 -->\n<g id=\"node6\" class=\"node\">\n<title>5</title>\n<polygon fill=\"#f4fafe\" stroke=\"black\" points=\"485.5,-53 248.5,-53 248.5,0 485.5,0 485.5,-53\"/>\n<text text-anchor=\"middle\" x=\"367\" y=\"-37.8\" font-family=\"Helvetica,sans-Serif\" font-size=\"14.00\">gini = 0.801</text>\n<text text-anchor=\"middle\" x=\"367\" y=\"-22.8\" font-family=\"Helvetica,sans-Serif\" font-size=\"14.00\">samples = 72</text>\n<text text-anchor=\"middle\" x=\"367\" y=\"-7.8\" font-family=\"Helvetica,sans-Serif\" font-size=\"14.00\">value = [5, 1, 2, 0, 15, 20, 17, 1, 2, 9]</text>\n</g>\n<!-- 3&#45;&gt;5 -->\n<g id=\"edge5\" class=\"edge\">\n<title>3&#45;&gt;5</title>\n<path fill=\"none\" stroke=\"black\" d=\"M367,-88.95C367,-80.72 367,-71.85 367,-63.48\"/>\n<polygon fill=\"black\" stroke=\"black\" points=\"370.5,-63.24 367,-53.24 363.5,-63.24 370.5,-63.24\"/>\n</g>\n<!-- 7 -->\n<g id=\"node8\" class=\"node\">\n<title>7</title>\n<polygon fill=\"#e99457\" stroke=\"black\" points=\"740.5,-53 503.5,-53 503.5,0 740.5,0 740.5,-53\"/>\n<text text-anchor=\"middle\" x=\"622\" y=\"-37.8\" font-family=\"Helvetica,sans-Serif\" font-size=\"14.00\">gini = 0.256</text>\n<text text-anchor=\"middle\" x=\"622\" y=\"-22.8\" font-family=\"Helvetica,sans-Serif\" font-size=\"14.00\">samples = 263</text>\n<text text-anchor=\"middle\" x=\"622\" y=\"-7.8\" font-family=\"Helvetica,sans-Serif\" font-size=\"14.00\">value = [226, 0, 6, 4, 1, 18, 6, 2, 0, 0]</text>\n</g>\n<!-- 6&#45;&gt;7 -->\n<g id=\"edge7\" class=\"edge\">\n<title>6&#45;&gt;7</title>\n<path fill=\"none\" stroke=\"black\" d=\"M709.13,-88.95C695.38,-79.25 680.39,-68.68 666.77,-59.07\"/>\n<polygon fill=\"black\" stroke=\"black\" points=\"668.68,-56.14 658.49,-53.24 664.65,-61.86 668.68,-56.14\"/>\n</g>\n<!-- 8 -->\n<g id=\"node9\" class=\"node\">\n<title>8</title>\n<polygon fill=\"#f4fdee\" stroke=\"black\" points=\"989,-53 759,-53 759,0 989,0 989,-53\"/>\n<text text-anchor=\"middle\" x=\"874\" y=\"-37.8\" font-family=\"Helvetica,sans-Serif\" font-size=\"14.00\">gini = 0.707</text>\n<text text-anchor=\"middle\" x=\"874\" y=\"-22.8\" font-family=\"Helvetica,sans-Serif\" font-size=\"14.00\">samples = 35</text>\n<text text-anchor=\"middle\" x=\"874\" y=\"-7.8\" font-family=\"Helvetica,sans-Serif\" font-size=\"14.00\">value = [3, 1, 14, 1, 0, 12, 2, 0, 2, 0]</text>\n</g>\n<!-- 6&#45;&gt;8 -->\n<g id=\"edge8\" class=\"edge\">\n<title>6&#45;&gt;8</title>\n<path fill=\"none\" stroke=\"black\" d=\"M797.27,-88.95C809.15,-79.43 822.09,-69.07 833.9,-59.62\"/>\n<polygon fill=\"black\" stroke=\"black\" points=\"836.25,-62.22 841.86,-53.24 831.87,-56.76 836.25,-62.22\"/>\n</g>\n<!-- 10 -->\n<g id=\"node11\" class=\"node\">\n<title>10</title>\n<polygon fill=\"#feffff\" stroke=\"black\" points=\"1575.5,-157 1270.5,-157 1270.5,-89 1575.5,-89 1575.5,-157\"/>\n<text text-anchor=\"middle\" x=\"1423\" y=\"-141.8\" font-family=\"Helvetica,sans-Serif\" font-size=\"14.00\">X[432] &lt;= 0.5</text>\n<text text-anchor=\"middle\" x=\"1423\" y=\"-126.8\" font-family=\"Helvetica,sans-Serif\" font-size=\"14.00\">gini = 0.825</text>\n<text text-anchor=\"middle\" x=\"1423\" y=\"-111.8\" font-family=\"Helvetica,sans-Serif\" font-size=\"14.00\">samples = 883</text>\n<text text-anchor=\"middle\" x=\"1423\" y=\"-96.8\" font-family=\"Helvetica,sans-Serif\" font-size=\"14.00\">value = [3, 11, 42, 54, 206, 96, 31, 191, 48, 201]</text>\n</g>\n<!-- 9&#45;&gt;10 -->\n<g id=\"edge10\" class=\"edge\">\n<title>9&#45;&gt;10</title>\n<path fill=\"none\" stroke=\"black\" d=\"M1529.7,-192.88C1514.72,-183.21 1498.23,-172.56 1482.77,-162.59\"/>\n<polygon fill=\"black\" stroke=\"black\" points=\"1484.61,-159.61 1474.31,-157.12 1480.81,-165.49 1484.61,-159.61\"/>\n</g>\n<!-- 13 -->\n<g id=\"node14\" class=\"node\">\n<title>13</title>\n<polygon fill=\"#e7e6fc\" stroke=\"black\" points=\"1884,-157 1594,-157 1594,-89 1884,-89 1884,-157\"/>\n<text text-anchor=\"middle\" x=\"1739\" y=\"-141.8\" font-family=\"Helvetica,sans-Serif\" font-size=\"14.00\">X[271] &lt;= 0.5</text>\n<text text-anchor=\"middle\" x=\"1739\" y=\"-126.8\" font-family=\"Helvetica,sans-Serif\" font-size=\"14.00\">gini = 0.739</text>\n<text text-anchor=\"middle\" x=\"1739\" y=\"-111.8\" font-family=\"Helvetica,sans-Serif\" font-size=\"14.00\">samples = 535</text>\n<text text-anchor=\"middle\" x=\"1739\" y=\"-96.8\" font-family=\"Helvetica,sans-Serif\" font-size=\"14.00\">value = [2, 14, 151, 1, 21, 17, 199, 16, 105, 9]</text>\n</g>\n<!-- 9&#45;&gt;13 -->\n<g id=\"edge13\" class=\"edge\">\n<title>9&#45;&gt;13</title>\n<path fill=\"none\" stroke=\"black\" d=\"M1632.3,-192.88C1647.28,-183.21 1663.77,-172.56 1679.23,-162.59\"/>\n<polygon fill=\"black\" stroke=\"black\" points=\"1681.19,-165.49 1687.69,-157.12 1677.39,-159.61 1681.19,-165.49\"/>\n</g>\n<!-- 11 -->\n<g id=\"node12\" class=\"node\">\n<title>11</title>\n<polygon fill=\"#c889ef\" stroke=\"black\" points=\"1274.5,-53 1007.5,-53 1007.5,0 1274.5,0 1274.5,-53\"/>\n<text text-anchor=\"middle\" x=\"1141\" y=\"-37.8\" font-family=\"Helvetica,sans-Serif\" font-size=\"14.00\">gini = 0.586</text>\n<text text-anchor=\"middle\" x=\"1141\" y=\"-22.8\" font-family=\"Helvetica,sans-Serif\" font-size=\"14.00\">samples = 285</text>\n<text text-anchor=\"middle\" x=\"1141\" y=\"-7.8\" font-family=\"Helvetica,sans-Serif\" font-size=\"14.00\">value = [2, 9, 8, 15, 21, 14, 10, 179, 5, 22]</text>\n</g>\n<!-- 10&#45;&gt;11 -->\n<g id=\"edge11\" class=\"edge\">\n<title>10&#45;&gt;11</title>\n<path fill=\"none\" stroke=\"black\" d=\"M1324.37,-88.95C1292.7,-78.33 1257.88,-66.67 1227.17,-56.38\"/>\n<polygon fill=\"black\" stroke=\"black\" points=\"1227.95,-52.95 1217.35,-53.09 1225.72,-59.58 1227.95,-52.95\"/>\n</g>\n<!-- 12 -->\n<g id=\"node13\" class=\"node\">\n<title>12</title>\n<polygon fill=\"#fcfffe\" stroke=\"black\" points=\"1583,-53 1293,-53 1293,0 1583,0 1583,-53\"/>\n<text text-anchor=\"middle\" x=\"1438\" y=\"-37.8\" font-family=\"Helvetica,sans-Serif\" font-size=\"14.00\">gini = 0.782</text>\n<text text-anchor=\"middle\" x=\"1438\" y=\"-22.8\" font-family=\"Helvetica,sans-Serif\" font-size=\"14.00\">samples = 598</text>\n<text text-anchor=\"middle\" x=\"1438\" y=\"-7.8\" font-family=\"Helvetica,sans-Serif\" font-size=\"14.00\">value = [1, 2, 34, 39, 185, 82, 21, 12, 43, 179]</text>\n</g>\n<!-- 10&#45;&gt;12 -->\n<g id=\"edge12\" class=\"edge\">\n<title>10&#45;&gt;12</title>\n<path fill=\"none\" stroke=\"black\" d=\"M1428.25,-88.95C1429.57,-80.62 1430.99,-71.65 1432.33,-63.2\"/>\n<polygon fill=\"black\" stroke=\"black\" points=\"1435.8,-63.66 1433.91,-53.24 1428.89,-62.56 1435.8,-63.66\"/>\n</g>\n<!-- 14 -->\n<g id=\"node15\" class=\"node\">\n<title>14</title>\n<polygon fill=\"#7a78ed\" stroke=\"black\" points=\"1846.5,-53 1601.5,-53 1601.5,0 1846.5,0 1846.5,-53\"/>\n<text text-anchor=\"middle\" x=\"1724\" y=\"-37.8\" font-family=\"Helvetica,sans-Serif\" font-size=\"14.00\">gini = 0.453</text>\n<text text-anchor=\"middle\" x=\"1724\" y=\"-22.8\" font-family=\"Helvetica,sans-Serif\" font-size=\"14.00\">samples = 260</text>\n<text text-anchor=\"middle\" x=\"1724\" y=\"-7.8\" font-family=\"Helvetica,sans-Serif\" font-size=\"14.00\">value = [0, 3, 32, 0, 3, 5, 188, 2, 24, 3]</text>\n</g>\n<!-- 13&#45;&gt;14 -->\n<g id=\"edge14\" class=\"edge\">\n<title>13&#45;&gt;14</title>\n<path fill=\"none\" stroke=\"black\" d=\"M1733.75,-88.95C1732.43,-80.62 1731.01,-71.65 1729.67,-63.2\"/>\n<polygon fill=\"black\" stroke=\"black\" points=\"1733.11,-62.56 1728.09,-53.24 1726.2,-63.66 1733.11,-62.56\"/>\n</g>\n<!-- 15 -->\n<g id=\"node16\" class=\"node\">\n<title>15</title>\n<polygon fill=\"#e5fad8\" stroke=\"black\" points=\"2139.5,-53 1864.5,-53 1864.5,0 2139.5,0 2139.5,-53\"/>\n<text text-anchor=\"middle\" x=\"2002\" y=\"-37.8\" font-family=\"Helvetica,sans-Serif\" font-size=\"14.00\">gini = 0.713</text>\n<text text-anchor=\"middle\" x=\"2002\" y=\"-22.8\" font-family=\"Helvetica,sans-Serif\" font-size=\"14.00\">samples = 275</text>\n<text text-anchor=\"middle\" x=\"2002\" y=\"-7.8\" font-family=\"Helvetica,sans-Serif\" font-size=\"14.00\">value = [2, 11, 119, 1, 18, 12, 11, 14, 81, 6]</text>\n</g>\n<!-- 13&#45;&gt;15 -->\n<g id=\"edge15\" class=\"edge\">\n<title>13&#45;&gt;15</title>\n<path fill=\"none\" stroke=\"black\" d=\"M1830.98,-88.95C1860.4,-78.38 1892.72,-66.77 1921.26,-56.51\"/>\n<polygon fill=\"black\" stroke=\"black\" points=\"1922.56,-59.76 1930.79,-53.09 1920.2,-53.17 1922.56,-59.76\"/>\n</g>\n<!-- 17 -->\n<g id=\"node18\" class=\"node\">\n<title>17</title>\n<polygon fill=\"#b7f6c5\" stroke=\"black\" points=\"2785,-261 2503,-261 2503,-193 2785,-193 2785,-261\"/>\n<text text-anchor=\"middle\" x=\"2644\" y=\"-245.8\" font-family=\"Helvetica,sans-Serif\" font-size=\"14.00\">X[290] &lt;= 9.5</text>\n<text text-anchor=\"middle\" x=\"2644\" y=\"-230.8\" font-family=\"Helvetica,sans-Serif\" font-size=\"14.00\">gini = 0.705</text>\n<text text-anchor=\"middle\" x=\"2644\" y=\"-215.8\" font-family=\"Helvetica,sans-Serif\" font-size=\"14.00\">samples = 463</text>\n<text text-anchor=\"middle\" x=\"2644\" y=\"-200.8\" font-family=\"Helvetica,sans-Serif\" font-size=\"14.00\">value = [15, 11, 5, 225, 11, 90, 11, 9, 46, 40]</text>\n</g>\n<!-- 16&#45;&gt;17 -->\n<g id=\"edge17\" class=\"edge\">\n<title>16&#45;&gt;17</title>\n<path fill=\"none\" stroke=\"black\" d=\"M2644,-296.88C2644,-288.78 2644,-279.98 2644,-271.47\"/>\n<polygon fill=\"black\" stroke=\"black\" points=\"2647.5,-271.3 2644,-261.3 2640.5,-271.3 2647.5,-271.3\"/>\n</g>\n<!-- 24 -->\n<g id=\"node25\" class=\"node\">\n<title>24</title>\n<polygon fill=\"#f2f4aa\" stroke=\"black\" points=\"3545.5,-261 3248.5,-261 3248.5,-193 3545.5,-193 3545.5,-261\"/>\n<text text-anchor=\"middle\" x=\"3397\" y=\"-245.8\" font-family=\"Helvetica,sans-Serif\" font-size=\"14.00\">X[235] &lt;= 0.5</text>\n<text text-anchor=\"middle\" x=\"3397\" y=\"-230.8\" font-family=\"Helvetica,sans-Serif\" font-size=\"14.00\">gini = 0.679</text>\n<text text-anchor=\"middle\" x=\"3397\" y=\"-215.8\" font-family=\"Helvetica,sans-Serif\" font-size=\"14.00\">samples = 638</text>\n<text text-anchor=\"middle\" x=\"3397\" y=\"-200.8\" font-family=\"Helvetica,sans-Serif\" font-size=\"14.00\">value = [2, 335, 61, 25, 20, 16, 41, 13, 105, 20]</text>\n</g>\n<!-- 16&#45;&gt;24 -->\n<g id=\"edge24\" class=\"edge\">\n<title>16&#45;&gt;24</title>\n<path fill=\"none\" stroke=\"black\" d=\"M2804.15,-308.31C2932.07,-290.98 3110.42,-266.82 3238.03,-249.53\"/>\n<polygon fill=\"black\" stroke=\"black\" points=\"3238.84,-252.96 3248.28,-248.15 3237.9,-246.02 3238.84,-252.96\"/>\n</g>\n<!-- 18 -->\n<g id=\"node19\" class=\"node\">\n<title>18</title>\n<polygon fill=\"#70ec8a\" stroke=\"black\" points=\"2635,-157 2383,-157 2383,-89 2635,-89 2635,-157\"/>\n<text text-anchor=\"middle\" x=\"2509\" y=\"-141.8\" font-family=\"Helvetica,sans-Serif\" font-size=\"14.00\">X[459] &lt;= 145.0</text>\n<text text-anchor=\"middle\" x=\"2509\" y=\"-126.8\" font-family=\"Helvetica,sans-Serif\" font-size=\"14.00\">gini = 0.433</text>\n<text text-anchor=\"middle\" x=\"2509\" y=\"-111.8\" font-family=\"Helvetica,sans-Serif\" font-size=\"14.00\">samples = 251</text>\n<text text-anchor=\"middle\" x=\"2509\" y=\"-96.8\" font-family=\"Helvetica,sans-Serif\" font-size=\"14.00\">value = [4, 11, 4, 187, 2, 13, 4, 3, 19, 4]</text>\n</g>\n<!-- 17&#45;&gt;18 -->\n<g id=\"edge18\" class=\"edge\">\n<title>17&#45;&gt;18</title>\n<path fill=\"none\" stroke=\"black\" d=\"M2600.17,-192.88C2587.79,-183.53 2574.2,-173.26 2561.37,-163.57\"/>\n<polygon fill=\"black\" stroke=\"black\" points=\"2563.16,-160.54 2553.07,-157.3 2558.94,-166.12 2563.16,-160.54\"/>\n</g>\n<!-- 21 -->\n<g id=\"node22\" class=\"node\">\n<title>21</title>\n<polygon fill=\"#d3e9f9\" stroke=\"black\" points=\"2905,-157 2653,-157 2653,-89 2905,-89 2905,-157\"/>\n<text text-anchor=\"middle\" x=\"2779\" y=\"-141.8\" font-family=\"Helvetica,sans-Serif\" font-size=\"14.00\">X[297] &lt;= 0.5</text>\n<text text-anchor=\"middle\" x=\"2779\" y=\"-126.8\" font-family=\"Helvetica,sans-Serif\" font-size=\"14.00\">gini = 0.784</text>\n<text text-anchor=\"middle\" x=\"2779\" y=\"-111.8\" font-family=\"Helvetica,sans-Serif\" font-size=\"14.00\">samples = 212</text>\n<text text-anchor=\"middle\" x=\"2779\" y=\"-96.8\" font-family=\"Helvetica,sans-Serif\" font-size=\"14.00\">value = [11, 0, 1, 38, 9, 77, 7, 6, 27, 36]</text>\n</g>\n<!-- 17&#45;&gt;21 -->\n<g id=\"edge21\" class=\"edge\">\n<title>17&#45;&gt;21</title>\n<path fill=\"none\" stroke=\"black\" d=\"M2687.83,-192.88C2700.21,-183.53 2713.8,-173.26 2726.63,-163.57\"/>\n<polygon fill=\"black\" stroke=\"black\" points=\"2729.06,-166.12 2734.93,-157.3 2724.84,-160.54 2729.06,-166.12\"/>\n</g>\n<!-- 19 -->\n<g id=\"node20\" class=\"node\">\n<title>19</title>\n<polygon fill=\"#59e978\" stroke=\"black\" points=\"2394.5,-53 2157.5,-53 2157.5,0 2394.5,0 2394.5,-53\"/>\n<text text-anchor=\"middle\" x=\"2276\" y=\"-37.8\" font-family=\"Helvetica,sans-Serif\" font-size=\"14.00\">gini = 0.277</text>\n<text text-anchor=\"middle\" x=\"2276\" y=\"-22.8\" font-family=\"Helvetica,sans-Serif\" font-size=\"14.00\">samples = 210</text>\n<text text-anchor=\"middle\" x=\"2276\" y=\"-7.8\" font-family=\"Helvetica,sans-Serif\" font-size=\"14.00\">value = [3, 8, 1, 178, 1, 11, 2, 2, 1, 3]</text>\n</g>\n<!-- 18&#45;&gt;19 -->\n<g id=\"edge19\" class=\"edge\">\n<title>18&#45;&gt;19</title>\n<path fill=\"none\" stroke=\"black\" d=\"M2427.51,-88.95C2401.79,-78.52 2373.57,-67.07 2348.52,-56.91\"/>\n<polygon fill=\"black\" stroke=\"black\" points=\"2349.67,-53.6 2339.09,-53.09 2347.04,-60.09 2349.67,-53.6\"/>\n</g>\n<!-- 20 -->\n<g id=\"node21\" class=\"node\">\n<title>20</title>\n<polygon fill=\"#f8c7ed\" stroke=\"black\" points=\"2635,-53 2413,-53 2413,0 2635,0 2635,-53\"/>\n<text text-anchor=\"middle\" x=\"2524\" y=\"-37.8\" font-family=\"Helvetica,sans-Serif\" font-size=\"14.00\">gini = 0.741</text>\n<text text-anchor=\"middle\" x=\"2524\" y=\"-22.8\" font-family=\"Helvetica,sans-Serif\" font-size=\"14.00\">samples = 41</text>\n<text text-anchor=\"middle\" x=\"2524\" y=\"-7.8\" font-family=\"Helvetica,sans-Serif\" font-size=\"14.00\">value = [1, 3, 3, 9, 1, 2, 2, 1, 18, 1]</text>\n</g>\n<!-- 18&#45;&gt;20 -->\n<g id=\"edge20\" class=\"edge\">\n<title>18&#45;&gt;20</title>\n<path fill=\"none\" stroke=\"black\" d=\"M2514.25,-88.95C2515.57,-80.62 2516.99,-71.65 2518.33,-63.2\"/>\n<polygon fill=\"black\" stroke=\"black\" points=\"2521.8,-63.66 2519.91,-53.24 2514.89,-62.56 2521.8,-63.66\"/>\n</g>\n<!-- 22 -->\n<g id=\"node23\" class=\"node\">\n<title>22</title>\n<polygon fill=\"#76bbed\" stroke=\"black\" points=\"2875,-53 2653,-53 2653,0 2875,0 2875,-53\"/>\n<text text-anchor=\"middle\" x=\"2764\" y=\"-37.8\" font-family=\"Helvetica,sans-Serif\" font-size=\"14.00\">gini = 0.466</text>\n<text text-anchor=\"middle\" x=\"2764\" y=\"-22.8\" font-family=\"Helvetica,sans-Serif\" font-size=\"14.00\">samples = 89</text>\n<text text-anchor=\"middle\" x=\"2764\" y=\"-7.8\" font-family=\"Helvetica,sans-Serif\" font-size=\"14.00\">value = [4, 0, 0, 8, 3, 64, 6, 0, 2, 2]</text>\n</g>\n<!-- 21&#45;&gt;22 -->\n<g id=\"edge22\" class=\"edge\">\n<title>21&#45;&gt;22</title>\n<path fill=\"none\" stroke=\"black\" d=\"M2773.75,-88.95C2772.43,-80.62 2771.01,-71.65 2769.67,-63.2\"/>\n<polygon fill=\"black\" stroke=\"black\" points=\"2773.11,-62.56 2768.09,-53.24 2766.2,-63.66 2773.11,-62.56\"/>\n</g>\n<!-- 23 -->\n<g id=\"node24\" class=\"node\">\n<title>23</title>\n<polygon fill=\"#fef6f8\" stroke=\"black\" points=\"3138.5,-53 2893.5,-53 2893.5,0 3138.5,0 3138.5,-53\"/>\n<text text-anchor=\"middle\" x=\"3016\" y=\"-37.8\" font-family=\"Helvetica,sans-Serif\" font-size=\"14.00\">gini = 0.803</text>\n<text text-anchor=\"middle\" x=\"3016\" y=\"-22.8\" font-family=\"Helvetica,sans-Serif\" font-size=\"14.00\">samples = 123</text>\n<text text-anchor=\"middle\" x=\"3016\" y=\"-7.8\" font-family=\"Helvetica,sans-Serif\" font-size=\"14.00\">value = [7, 0, 1, 30, 6, 13, 1, 6, 25, 34]</text>\n</g>\n<!-- 21&#45;&gt;23 -->\n<g id=\"edge23\" class=\"edge\">\n<title>21&#45;&gt;23</title>\n<path fill=\"none\" stroke=\"black\" d=\"M2861.89,-88.95C2888.05,-78.52 2916.76,-67.07 2942.24,-56.91\"/>\n<polygon fill=\"black\" stroke=\"black\" points=\"2943.84,-60.04 2951.83,-53.09 2941.25,-53.54 2943.84,-60.04\"/>\n</g>\n<!-- 25 -->\n<g id=\"node26\" class=\"node\">\n<title>25</title>\n<polygon fill=\"#eaed73\" stroke=\"black\" points=\"3530.5,-157 3263.5,-157 3263.5,-89 3530.5,-89 3530.5,-157\"/>\n<text text-anchor=\"middle\" x=\"3397\" y=\"-141.8\" font-family=\"Helvetica,sans-Serif\" font-size=\"14.00\">X[521] &lt;= 25.5</text>\n<text text-anchor=\"middle\" x=\"3397\" y=\"-126.8\" font-family=\"Helvetica,sans-Serif\" font-size=\"14.00\">gini = 0.456</text>\n<text text-anchor=\"middle\" x=\"3397\" y=\"-111.8\" font-family=\"Helvetica,sans-Serif\" font-size=\"14.00\">samples = 432</text>\n<text text-anchor=\"middle\" x=\"3397\" y=\"-96.8\" font-family=\"Helvetica,sans-Serif\" font-size=\"14.00\">value = [1, 315, 31, 9, 10, 14, 24, 2, 21, 5]</text>\n</g>\n<!-- 24&#45;&gt;25 -->\n<g id=\"edge25\" class=\"edge\">\n<title>24&#45;&gt;25</title>\n<path fill=\"none\" stroke=\"black\" d=\"M3397,-192.88C3397,-184.78 3397,-175.98 3397,-167.47\"/>\n<polygon fill=\"black\" stroke=\"black\" points=\"3400.5,-167.3 3397,-157.3 3393.5,-167.3 3400.5,-167.3\"/>\n</g>\n<!-- 28 -->\n<g id=\"node29\" class=\"node\">\n<title>28</title>\n<polygon fill=\"#f7c2ec\" stroke=\"black\" points=\"3938.5,-157 3663.5,-157 3663.5,-89 3938.5,-89 3938.5,-157\"/>\n<text text-anchor=\"middle\" x=\"3801\" y=\"-141.8\" font-family=\"Helvetica,sans-Serif\" font-size=\"14.00\">X[656] &lt;= 88.5</text>\n<text text-anchor=\"middle\" x=\"3801\" y=\"-126.8\" font-family=\"Helvetica,sans-Serif\" font-size=\"14.00\">gini = 0.78</text>\n<text text-anchor=\"middle\" x=\"3801\" y=\"-111.8\" font-family=\"Helvetica,sans-Serif\" font-size=\"14.00\">samples = 206</text>\n<text text-anchor=\"middle\" x=\"3801\" y=\"-96.8\" font-family=\"Helvetica,sans-Serif\" font-size=\"14.00\">value = [1, 20, 30, 16, 10, 2, 17, 11, 84, 15]</text>\n</g>\n<!-- 24&#45;&gt;28 -->\n<g id=\"edge28\" class=\"edge\">\n<title>24&#45;&gt;28</title>\n<path fill=\"none\" stroke=\"black\" d=\"M3527.89,-192.95C3570.12,-182.29 3617.1,-170.43 3660.02,-159.59\"/>\n<polygon fill=\"black\" stroke=\"black\" points=\"3661.14,-162.92 3669.97,-157.08 3659.42,-156.14 3661.14,-162.92\"/>\n</g>\n<!-- 26 -->\n<g id=\"node27\" class=\"node\">\n<title>26</title>\n<polygon fill=\"#e7e95a\" stroke=\"black\" points=\"3409,-53 3157,-53 3157,0 3409,0 3409,-53\"/>\n<text text-anchor=\"middle\" x=\"3283\" y=\"-37.8\" font-family=\"Helvetica,sans-Serif\" font-size=\"14.00\">gini = 0.292</text>\n<text text-anchor=\"middle\" x=\"3283\" y=\"-22.8\" font-family=\"Helvetica,sans-Serif\" font-size=\"14.00\">samples = 372</text>\n<text text-anchor=\"middle\" x=\"3283\" y=\"-7.8\" font-family=\"Helvetica,sans-Serif\" font-size=\"14.00\">value = [0, 312, 13, 5, 6, 10, 3, 2, 16, 5]</text>\n</g>\n<!-- 25&#45;&gt;26 -->\n<g id=\"edge26\" class=\"edge\">\n<title>25&#45;&gt;26</title>\n<path fill=\"none\" stroke=\"black\" d=\"M3357.13,-88.95C3345.76,-79.53 3333.39,-69.27 3322.07,-59.89\"/>\n<polygon fill=\"black\" stroke=\"black\" points=\"3323.98,-56.92 3314.05,-53.24 3319.51,-62.31 3323.98,-56.92\"/>\n</g>\n<!-- 27 -->\n<g id=\"node28\" class=\"node\">\n<title>27</title>\n<polygon fill=\"#f1f1fd\" stroke=\"black\" points=\"3657,-53 3427,-53 3427,0 3657,0 3657,-53\"/>\n<text text-anchor=\"middle\" x=\"3542\" y=\"-37.8\" font-family=\"Helvetica,sans-Serif\" font-size=\"14.00\">gini = 0.764</text>\n<text text-anchor=\"middle\" x=\"3542\" y=\"-22.8\" font-family=\"Helvetica,sans-Serif\" font-size=\"14.00\">samples = 60</text>\n<text text-anchor=\"middle\" x=\"3542\" y=\"-7.8\" font-family=\"Helvetica,sans-Serif\" font-size=\"14.00\">value = [1, 3, 18, 4, 4, 4, 21, 0, 5, 0]</text>\n</g>\n<!-- 25&#45;&gt;27 -->\n<g id=\"edge27\" class=\"edge\">\n<title>25&#45;&gt;27</title>\n<path fill=\"none\" stroke=\"black\" d=\"M3447.71,-88.95C3462.73,-79.16 3479.13,-68.48 3493.97,-58.8\"/>\n<polygon fill=\"black\" stroke=\"black\" points=\"3496.04,-61.63 3502.51,-53.24 3492.22,-55.76 3496.04,-61.63\"/>\n</g>\n<!-- 29 -->\n<g id=\"node30\" class=\"node\">\n<title>29</title>\n<polygon fill=\"#f3fded\" stroke=\"black\" points=\"3927,-53 3675,-53 3675,0 3927,0 3927,-53\"/>\n<text text-anchor=\"middle\" x=\"3801\" y=\"-37.8\" font-family=\"Helvetica,sans-Serif\" font-size=\"14.00\">gini = 0.847</text>\n<text text-anchor=\"middle\" x=\"3801\" y=\"-22.8\" font-family=\"Helvetica,sans-Serif\" font-size=\"14.00\">samples = 104</text>\n<text text-anchor=\"middle\" x=\"3801\" y=\"-7.8\" font-family=\"Helvetica,sans-Serif\" font-size=\"14.00\">value = [1, 18, 26, 6, 8, 2, 17, 4, 11, 11]</text>\n</g>\n<!-- 28&#45;&gt;29 -->\n<g id=\"edge29\" class=\"edge\">\n<title>28&#45;&gt;29</title>\n<path fill=\"none\" stroke=\"black\" d=\"M3801,-88.95C3801,-80.72 3801,-71.85 3801,-63.48\"/>\n<polygon fill=\"black\" stroke=\"black\" points=\"3804.5,-63.24 3801,-53.24 3797.5,-63.24 3804.5,-63.24\"/>\n</g>\n<!-- 30 -->\n<g id=\"node31\" class=\"node\">\n<title>30</title>\n<polygon fill=\"#ed77d4\" stroke=\"black\" points=\"4175,-53 3945,-53 3945,0 4175,0 4175,-53\"/>\n<text text-anchor=\"middle\" x=\"4060\" y=\"-37.8\" font-family=\"Helvetica,sans-Serif\" font-size=\"14.00\">gini = 0.47</text>\n<text text-anchor=\"middle\" x=\"4060\" y=\"-22.8\" font-family=\"Helvetica,sans-Serif\" font-size=\"14.00\">samples = 102</text>\n<text text-anchor=\"middle\" x=\"4060\" y=\"-7.8\" font-family=\"Helvetica,sans-Serif\" font-size=\"14.00\">value = [0, 2, 4, 10, 2, 0, 0, 7, 73, 4]</text>\n</g>\n<!-- 28&#45;&gt;30 -->\n<g id=\"edge30\" class=\"edge\">\n<title>28&#45;&gt;30</title>\n<path fill=\"none\" stroke=\"black\" d=\"M3891.59,-88.95C3920.42,-78.43 3952.1,-66.87 3980.12,-56.64\"/>\n<polygon fill=\"black\" stroke=\"black\" points=\"3981.68,-59.8 3989.87,-53.09 3979.28,-53.23 3981.68,-59.8\"/>\n</g>\n</g>\n</svg>\n"
          },
          "metadata": {},
          "execution_count": 95
        }
      ]
    },
    {
      "cell_type": "markdown",
      "source": [
        "##Converting File to HTML"
      ],
      "metadata": {
        "id": "MynW3IW0SbfJ"
      },
      "id": "MynW3IW0SbfJ"
    },
    {
      "cell_type": "code",
      "source": [
        "!jupyter nbconvert --to html decision_trees.ipynb"
      ],
      "metadata": {
        "id": "csWgohs2SxI_"
      },
      "id": "csWgohs2SxI_",
      "execution_count": null,
      "outputs": []
    }
  ],
  "metadata": {
    "kernelspec": {
      "display_name": "Python 3",
      "language": "python",
      "name": "python3"
    },
    "language_info": {
      "codemirror_mode": {
        "name": "ipython",
        "version": 3
      },
      "file_extension": ".py",
      "mimetype": "text/x-python",
      "name": "python",
      "nbconvert_exporter": "python",
      "pygments_lexer": "ipython3",
      "version": "3.8.5"
    },
    "colab": {
      "provenance": [],
      "include_colab_link": true
    }
  },
  "nbformat": 4,
  "nbformat_minor": 5
}